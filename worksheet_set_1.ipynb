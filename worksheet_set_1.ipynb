{
 "cells": [
  {
   "cell_type": "code",
   "execution_count": null,
   "id": "538777ec",
   "metadata": {},
   "outputs": [],
   "source": [
    "#Write a python program to find the factorial of a number"
   ]
  },
  {
   "cell_type": "code",
   "execution_count": 2,
   "id": "fb76ed1b",
   "metadata": {},
   "outputs": [
    {
     "name": "stdout",
     "output_type": "stream",
     "text": [
      "Enter the number:5\n",
      "Factorial of 5 is 120\n"
     ]
    }
   ],
   "source": [
    "import math\n",
    "def fact(n):\n",
    "    return(math.factorial(n))\n",
    "num=int(input(\"Enter the number:\"))\n",
    "f=fact(num)\n",
    "print(\"Factorial of\",num,\"is\",f)"
   ]
  },
  {
   "cell_type": "code",
   "execution_count": null,
   "id": "8410fec1",
   "metadata": {},
   "outputs": [],
   "source": [
    "#Write a python program to find whether a number is prime or composite"
   ]
  },
  {
   "cell_type": "code",
   "execution_count": 88,
   "id": "386ef907",
   "metadata": {},
   "outputs": [
    {
     "name": "stdout",
     "output_type": "stream",
     "text": [
      "Enter the number 7\n",
      "7 is a Prime Number\n"
     ]
    }
   ],
   "source": [
    "n = int(input(\"Enter the number \"))\n",
    "if (n==0 or n==1):\n",
    "    print(n,\"is Neither Prime nor Composite\")\n",
    "elif n>1:\n",
    "    for x in range (2,n):\n",
    "        if n % x == 0:\n",
    "            print(n,\"is a Composite Number\")\n",
    "            break\n",
    "    else:\n",
    "            print(n,\"is a Prime Number\")\n",
    "else:\n",
    "    print(\"Enter positive numbers only\")"
   ]
  },
  {
   "cell_type": "code",
   "execution_count": null,
   "id": "61c81ffe",
   "metadata": {},
   "outputs": [],
   "source": [
    "#Write a python program to check whether a given string is palindrome or not"
   ]
  },
  {
   "cell_type": "code",
   "execution_count": 121,
   "id": "22484f10",
   "metadata": {},
   "outputs": [
    {
     "name": "stdout",
     "output_type": "stream",
     "text": [
      "Enter the word nana\n",
      "No\n"
     ]
    }
   ],
   "source": [
    "def isPalindrome(s):\n",
    "    return s == s[::-1]\n",
    "s=str(input('Enter the word '))\n",
    "ans = isPalindrome(s)\n",
    " \n",
    "if ans:\n",
    "    print(\"Yes\")\n",
    "else:\n",
    "    print(\"No\")"
   ]
  },
  {
   "cell_type": "code",
   "execution_count": null,
   "id": "b7809bb8",
   "metadata": {},
   "outputs": [],
   "source": []
  },
  {
   "cell_type": "code",
   "execution_count": null,
   "id": "26daf239",
   "metadata": {},
   "outputs": [],
   "source": [
    "#Write a Python program to get the third side of right-angled triangle from two given sides"
   ]
  },
  {
   "cell_type": "code",
   "execution_count": 147,
   "id": "5678b40e",
   "metadata": {},
   "outputs": [
    {
     "name": "stdout",
     "output_type": "stream",
     "text": [
      "Enter the First side 5\n",
      "Enter the Second side 6\n",
      "the Third side is  7.810249675906654\n"
     ]
    }
   ],
   "source": [
    "a=int(input('Enter the First side '))\n",
    "b=int(input('Enter the Second side '))\n",
    "\n",
    "c=(a**2 + b**2)**0.5\n",
    "\n",
    "print('The Third side is ',c)"
   ]
  },
  {
   "cell_type": "code",
   "execution_count": 149,
   "id": "29ec03f1",
   "metadata": {},
   "outputs": [
    {
     "name": "stdout",
     "output_type": "stream",
     "text": [
      "Enter the adjacent side 4\n",
      "Enter the opposite side 3\n",
      "hypotenuse side  5.0\n"
     ]
    }
   ],
   "source": [
    "import math \n",
    "\n",
    "a=int(input('Enter the adjacent side '))\n",
    "b=int(input('Enter the opposite side '))\n",
    "\n",
    "c=math.sqrt(a*a+b*b)\n",
    "\n",
    "print('hypotenuse side ', c)"
   ]
  },
  {
   "cell_type": "code",
   "execution_count": null,
   "id": "6282a01f",
   "metadata": {},
   "outputs": [],
   "source": [
    "#write a python program to print the frequency of each of the characters present in a given string"
   ]
  },
  {
   "cell_type": "code",
   "execution_count": 160,
   "id": "4ca2b009",
   "metadata": {},
   "outputs": [
    {
     "name": "stdout",
     "output_type": "stream",
     "text": [
      "Frequency of all characters in datatrained is : {'d': 2, 'a': 3, 't': 2, 'r': 1, 'i': 1, 'n': 1, 'e': 1}\n"
     ]
    }
   ],
   "source": [
    "# initializing string\n",
    "str = \"datatrained\"\n",
    "\n",
    "freq = {}\n",
    "\n",
    "for i in str:\n",
    "    if i in freq:\n",
    "        freq[i] += 1\n",
    "    else:\n",
    "        freq[i] = 1\n",
    "\n",
    "# printing result\n",
    "print (\"Frequency of all characters in datatrained is :\",freq)\n"
   ]
  },
  {
   "cell_type": "code",
   "execution_count": null,
   "id": "ded1fdb0",
   "metadata": {},
   "outputs": [],
   "source": []
  },
  {
   "cell_type": "code",
   "execution_count": null,
   "id": "02121c7c",
   "metadata": {},
   "outputs": [],
   "source": []
  },
  {
   "cell_type": "code",
   "execution_count": null,
   "id": "0dd5cc24",
   "metadata": {},
   "outputs": [],
   "source": []
  },
  {
   "cell_type": "code",
   "execution_count": null,
   "id": "747dd67c",
   "metadata": {},
   "outputs": [],
   "source": []
  },
  {
   "cell_type": "code",
   "execution_count": null,
   "id": "6f29ccdf",
   "metadata": {},
   "outputs": [],
   "source": []
  }
 ],
 "metadata": {
  "kernelspec": {
   "display_name": "Python 3",
   "language": "python",
   "name": "python3"
  },
  "language_info": {
   "codemirror_mode": {
    "name": "ipython",
    "version": 3
   },
   "file_extension": ".py",
   "mimetype": "text/x-python",
   "name": "python",
   "nbconvert_exporter": "python",
   "pygments_lexer": "ipython3",
   "version": "3.8.8"
  }
 },
 "nbformat": 4,
 "nbformat_minor": 5
}
