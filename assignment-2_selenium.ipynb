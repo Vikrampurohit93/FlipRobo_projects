{
 "cells": [
  {
   "cell_type": "code",
   "execution_count": null,
   "id": "91ca4953",
   "metadata": {},
   "outputs": [],
   "source": [
    "!pip install selenium"
   ]
  },
  {
   "cell_type": "code",
   "execution_count": null,
   "id": "9a46b347",
   "metadata": {},
   "outputs": [],
   "source": []
  },
  {
   "cell_type": "markdown",
   "id": "57e21d05",
   "metadata": {},
   "source": [
    "Q1: Write a python program to scrape data for “Data Analyst” Job position in “Bangalore” location. You have to scrape the job-title, job-location, company_name, experience_required. You have to scrape first 10 jobs data.\n",
    "This task will be done in following steps:\n",
    "1. First get the webpage https://www.naukri.com/\n",
    "2. Enter “Data Analyst” in “Skill, Designations, Companies” field and enter “Bangalore” in “enter the\n",
    "location” field.\n",
    "3. Then click the search button.\n",
    "4. Then scrape the data for the first 10 jobs results you get.\n",
    "5. Finally create a dataframe of the scraped data.\n",
    "Note: All of the above steps have to be done in code. No step is to be done manually."
   ]
  },
  {
   "cell_type": "code",
   "execution_count": null,
   "id": "99b1b8be",
   "metadata": {},
   "outputs": [],
   "source": [
    "# let's import all required libraries\n",
    "import selenium \n",
    "from selenium import webdriver\n",
    "import pandas as pd\n",
    "import warnings\n",
    "warnings.filterwarnings('ignore')"
   ]
  },
  {
   "cell_type": "code",
   "execution_count": null,
   "id": "c2b1a43e",
   "metadata": {},
   "outputs": [],
   "source": [
    "#let's first connect to web driver\n",
    "driver=webdriver.Chrome(r'/Users/vikram/Documents/chromedriver')"
   ]
  },
  {
   "cell_type": "code",
   "execution_count": null,
   "id": "0b9c6c8d",
   "metadata": {},
   "outputs": [],
   "source": [
    "url='https://www.naukri.com/'\n",
    "driver.get(url)"
   ]
  },
  {
   "cell_type": "code",
   "execution_count": null,
   "id": "48184025",
   "metadata": {},
   "outputs": [],
   "source": [
    "search_job=driver.find_element_by_class_name('suggestor-input ')\n",
    "search_job"
   ]
  },
  {
   "cell_type": "code",
   "execution_count": null,
   "id": "3d19c50b",
   "metadata": {},
   "outputs": [],
   "source": [
    "search_job.send_keys('Data analyst')"
   ]
  },
  {
   "cell_type": "code",
   "execution_count": null,
   "id": "7c7e35ff",
   "metadata": {},
   "outputs": [],
   "source": [
    "search_location=driver.find_element_by_xpath('/html/body/div/div[2]/div[3]/div/div/div[3]/div/div/div/input')\n",
    "search_location"
   ]
  },
  {
   "cell_type": "code",
   "execution_count": null,
   "id": "a53041aa",
   "metadata": {},
   "outputs": [],
   "source": [
    "search_location.send_keys('Bangalore')"
   ]
  },
  {
   "cell_type": "code",
   "execution_count": null,
   "id": "e5c2f9a9",
   "metadata": {},
   "outputs": [],
   "source": [
    "search_btn=driver.find_element_by_xpath('/html/body/div/div[2]/div[3]/div/div/div[6]')\n",
    "search_btn"
   ]
  },
  {
   "cell_type": "code",
   "execution_count": null,
   "id": "a145d256",
   "metadata": {},
   "outputs": [],
   "source": [
    "search_btn.click()"
   ]
  },
  {
   "cell_type": "markdown",
   "id": "06946fa1",
   "metadata": {},
   "source": [
    "#  Extracting Titles"
   ]
  },
  {
   "cell_type": "code",
   "execution_count": null,
   "id": "c0caea6e",
   "metadata": {},
   "outputs": [],
   "source": [
    "title_tags = driver.find_elements_by_xpath('//a[@class=\"title fw500 ellipsis\"]')\n",
    "len(title_tags)\n",
    "title_tags[0:10]"
   ]
  },
  {
   "cell_type": "code",
   "execution_count": null,
   "id": "35c000f9",
   "metadata": {},
   "outputs": [],
   "source": []
  },
  {
   "cell_type": "code",
   "execution_count": null,
   "id": "6eb48289",
   "metadata": {},
   "outputs": [],
   "source": [
    "job_titles=[]\n",
    "\n",
    "for i in title_tags:\n",
    "    job_titles.append(i.text)\n",
    "len(job_titles)\n",
    "a=job_titles[0:10]\n",
    "a"
   ]
  },
  {
   "cell_type": "markdown",
   "id": "20a6d159",
   "metadata": {},
   "source": [
    "# Extrating company names"
   ]
  },
  {
   "cell_type": "code",
   "execution_count": null,
   "id": "7a45637d",
   "metadata": {},
   "outputs": [],
   "source": [
    "company_names = driver.find_elements_by_xpath('//a[@class=\"subTitle ellipsis fleft\"]')\n",
    "len(company_names)\n",
    "company_names[0:10]\n"
   ]
  },
  {
   "cell_type": "code",
   "execution_count": null,
   "id": "c619c6b5",
   "metadata": {},
   "outputs": [],
   "source": [
    "company_titles=[]\n",
    "\n",
    "for i in company_names:\n",
    "    company_titles.append(i.text)\n",
    "len(company_titles)\n",
    "b=company_titles[0:10]\n",
    "b"
   ]
  },
  {
   "cell_type": "markdown",
   "id": "aae94fa8",
   "metadata": {},
   "source": [
    "# Extracting experience"
   ]
  },
  {
   "cell_type": "code",
   "execution_count": null,
   "id": "5e461e2d",
   "metadata": {},
   "outputs": [],
   "source": []
  },
  {
   "cell_type": "code",
   "execution_count": null,
   "id": "7f5bd0bf",
   "metadata": {},
   "outputs": [],
   "source": [
    "exp_reqd = driver.find_elements_by_xpath('//li[@class=\"fleft grey-text br2 placeHolderLi experience\"]')\n",
    "len(exp_reqd)\n",
    "exp_reqd[0:10]\n",
    "\n"
   ]
  },
  {
   "cell_type": "code",
   "execution_count": null,
   "id": "de924ae0",
   "metadata": {},
   "outputs": [],
   "source": [
    "exp_tags=[]\n",
    "\n",
    "for i in exp_reqd:\n",
    "    exp_tags.append(i.text)\n",
    "len(exp_tags)\n",
    "c=exp_tags[0:10]\n",
    "c"
   ]
  },
  {
   "cell_type": "markdown",
   "id": "7c60cf23",
   "metadata": {},
   "source": [
    "#  Extracting location"
   ]
  },
  {
   "cell_type": "code",
   "execution_count": null,
   "id": "7eaf5420",
   "metadata": {},
   "outputs": [],
   "source": []
  },
  {
   "cell_type": "code",
   "execution_count": null,
   "id": "0cf77541",
   "metadata": {},
   "outputs": [],
   "source": [
    "location = driver.find_elements_by_xpath('//li[@class=\"fleft grey-text br2 placeHolderLi location\"]')\n",
    "len(location)\n",
    "location[0:10]"
   ]
  },
  {
   "cell_type": "code",
   "execution_count": null,
   "id": "3401ebdc",
   "metadata": {},
   "outputs": [],
   "source": [
    "location_tags=[]\n",
    "\n",
    "for i in location:\n",
    "    location_tags.append(i.text)\n",
    "len(location_tags)\n",
    "d=location_tags[0:10]\n",
    "d"
   ]
  },
  {
   "cell_type": "code",
   "execution_count": null,
   "id": "3fa72de9",
   "metadata": {},
   "outputs": [],
   "source": [
    "jobs=pd.DataFrame()\n",
    "jobs['Job Title']=a\n",
    "jobs['Company']=b\n",
    "jobs['Experience']=c\n",
    "jobs['location']=d\n",
    "jobs"
   ]
  },
  {
   "cell_type": "code",
   "execution_count": null,
   "id": "86e5ecb4",
   "metadata": {},
   "outputs": [],
   "source": []
  },
  {
   "cell_type": "markdown",
   "id": "70a6c24f",
   "metadata": {},
   "source": [
    "Q2: Write a python program to scrape data for “Data Scientist” Job position in “Bangalore” location. You have to scrape the job-title, job-location, company_name. You have to scrape first 10 jobs data.\n",
    "This task will be done in following steps:\n",
    "\n",
    "1. First get the webpage https://www.naukri.com/\n",
    "2. Enter “Data Scientist” in “Skill, Designations, Companies” field and enter “Bangalore” in “enter the\n",
    "location” field.\n",
    "3. Then click the search button.\n",
    "4. Then scrape the data for the first 10 jobs results you get.\n",
    "5. Finally create a dataframe of the scraped data.\n",
    "\n",
    "Note: All of the above steps have to be done in code. No step is to be done manually."
   ]
  },
  {
   "cell_type": "code",
   "execution_count": null,
   "id": "f802541b",
   "metadata": {},
   "outputs": [],
   "source": [
    "# let's import all required libraries\n",
    "import selenium \n",
    "from selenium import webdriver\n",
    "import pandas as pd\n",
    "import warnings\n",
    "warnings.filterwarnings('ignore')"
   ]
  },
  {
   "cell_type": "code",
   "execution_count": null,
   "id": "4f9461d8",
   "metadata": {},
   "outputs": [],
   "source": [
    "#let's first connect to web driver\n",
    "driver=webdriver.Chrome(r'/Users/vikram/Documents/chromedriver')"
   ]
  },
  {
   "cell_type": "code",
   "execution_count": null,
   "id": "5ce2a7f0",
   "metadata": {},
   "outputs": [],
   "source": [
    "url='https://www.naukri.com/'\n",
    "driver.get(url)"
   ]
  },
  {
   "cell_type": "code",
   "execution_count": null,
   "id": "5a880beb",
   "metadata": {},
   "outputs": [],
   "source": [
    "search_job=driver.find_element_by_class_name('suggestor-input ')\n",
    "search_job"
   ]
  },
  {
   "cell_type": "code",
   "execution_count": null,
   "id": "1738f9a1",
   "metadata": {},
   "outputs": [],
   "source": [
    "search_job.send_keys('Data Scientist')"
   ]
  },
  {
   "cell_type": "code",
   "execution_count": null,
   "id": "89edd654",
   "metadata": {},
   "outputs": [],
   "source": [
    "search_location=driver.find_element_by_xpath('/html/body/div/div[2]/div[3]/div/div/div[3]/div/div/div/input')\n",
    "search_location"
   ]
  },
  {
   "cell_type": "code",
   "execution_count": null,
   "id": "70cc788d",
   "metadata": {},
   "outputs": [],
   "source": [
    "search_location.send_keys('Bangalore')"
   ]
  },
  {
   "cell_type": "code",
   "execution_count": null,
   "id": "061e44af",
   "metadata": {},
   "outputs": [],
   "source": [
    "search_btn=driver.find_element_by_xpath('/html/body/div/div[2]/div[3]/div/div/div[6]')\n",
    "search_btn"
   ]
  },
  {
   "cell_type": "code",
   "execution_count": null,
   "id": "27c32498",
   "metadata": {},
   "outputs": [],
   "source": [
    "search_btn.click()"
   ]
  },
  {
   "cell_type": "markdown",
   "id": "51029b84",
   "metadata": {},
   "source": [
    "#  Extracting Titles"
   ]
  },
  {
   "cell_type": "code",
   "execution_count": null,
   "id": "7802dacb",
   "metadata": {},
   "outputs": [],
   "source": [
    "dtitle_tags = driver.find_elements_by_xpath('//a[@class=\"title fw500 ellipsis\"]')\n",
    "len(dtitle_tags)\n",
    "dtitle_tags[0:10]"
   ]
  },
  {
   "cell_type": "code",
   "execution_count": null,
   "id": "0d1de173",
   "metadata": {},
   "outputs": [],
   "source": [
    "job_dtitles=[]\n",
    "\n",
    "for i in dtitle_tags:\n",
    "    job_dtitles.append(i.text)\n",
    "len(job_dtitles)\n",
    "e=job_dtitles[0:10]\n",
    "e"
   ]
  },
  {
   "cell_type": "markdown",
   "id": "df3de8cd",
   "metadata": {},
   "source": [
    "# Extrating company names"
   ]
  },
  {
   "cell_type": "code",
   "execution_count": null,
   "id": "3bbc6a45",
   "metadata": {},
   "outputs": [],
   "source": [
    "dcompany_names = driver.find_elements_by_xpath('//a[@class=\"subTitle ellipsis fleft\"]')\n",
    "len(dcompany_names)\n",
    "dcompany_names[0:10]\n",
    "\n"
   ]
  },
  {
   "cell_type": "code",
   "execution_count": null,
   "id": "a52bd06d",
   "metadata": {},
   "outputs": [],
   "source": [
    "company_dtitles=[]\n",
    "\n",
    "for i in dcompany_names:\n",
    "    company_dtitles.append(i.text)\n",
    "len(company_dtitles)\n",
    "f=company_dtitles[0:10]\n",
    "f"
   ]
  },
  {
   "cell_type": "markdown",
   "id": "1360b791",
   "metadata": {},
   "source": [
    "#  Extracting location"
   ]
  },
  {
   "cell_type": "code",
   "execution_count": null,
   "id": "bf064660",
   "metadata": {},
   "outputs": [],
   "source": [
    "dlocation = driver.find_elements_by_xpath('//li[@class=\"fleft grey-text br2 placeHolderLi location\"]')\n",
    "len(dlocation)\n",
    "dlocation[0:10]"
   ]
  },
  {
   "cell_type": "code",
   "execution_count": null,
   "id": "615ea9b2",
   "metadata": {},
   "outputs": [],
   "source": [
    "location_dtags=[]\n",
    "\n",
    "for i in dlocation:\n",
    "    location_dtags.append(i.text)\n",
    "len(location_dtags)\n",
    "g=location_dtags[0:10]\n",
    "g"
   ]
  },
  {
   "cell_type": "code",
   "execution_count": null,
   "id": "c6e5bb66",
   "metadata": {},
   "outputs": [],
   "source": [
    "djobs=pd.DataFrame()\n",
    "djobs['Job Title']=e\n",
    "djobs['Company']=f\n",
    "djobs['location']=g\n",
    "djobs"
   ]
  },
  {
   "cell_type": "code",
   "execution_count": null,
   "id": "7c056fcd",
   "metadata": {},
   "outputs": [],
   "source": []
  },
  {
   "cell_type": "markdown",
   "id": "e1ca0e2f",
   "metadata": {},
   "source": [
    "Q3: In this question you have to scrape data using the filters available on the webpage as shown below:\n",
    "\n",
    "You have to use the location and salary filter.\n",
    "You have to scrape data for “Data Scientist” designation for first 10 job results.\n",
    "You have to scrape the job-title, job-location, company name, experience required. The location filter to be used is “Delhi/NCR”. The salary filter to be used is “3-6” lakhs\n",
    "The task will be done as shown in the below steps:\n",
    "1. first get the webpage https://www.naukri.com/\n",
    "2. Enter “Data Scientist” in “Skill, Designations, and Companies” field.\n",
    "3. Then click the search button.\n",
    "4. Then apply the location filter and salary filter by checking the respective boxes\n",
    "5. Then scrape the data for the first 10 jobs results you get.\n",
    "6. Finally create a dataframe of the scraped data.\n",
    "Note: All of the above steps have to be done in code. No step is to be done manually."
   ]
  },
  {
   "cell_type": "code",
   "execution_count": null,
   "id": "bb76880e",
   "metadata": {},
   "outputs": [],
   "source": [
    "# let's import all required libraries\n",
    "import selenium \n",
    "from selenium import webdriver\n",
    "import pandas as pd\n",
    "import warnings\n",
    "warnings.filterwarnings('ignore')"
   ]
  },
  {
   "cell_type": "code",
   "execution_count": null,
   "id": "7c925d93",
   "metadata": {},
   "outputs": [],
   "source": [
    "#let's first connect to web driver\n",
    "driver=webdriver.Chrome(r'/Users/vikram/Documents/chromedriver')"
   ]
  },
  {
   "cell_type": "code",
   "execution_count": null,
   "id": "e74e0896",
   "metadata": {},
   "outputs": [],
   "source": [
    "url='https://www.naukri.com/'\n",
    "driver.get(url)"
   ]
  },
  {
   "cell_type": "code",
   "execution_count": null,
   "id": "d7ac2e1b",
   "metadata": {},
   "outputs": [],
   "source": [
    "search_job=driver.find_element_by_class_name('suggestor-input ')\n",
    "search_job"
   ]
  },
  {
   "cell_type": "code",
   "execution_count": null,
   "id": "b7a17b5f",
   "metadata": {},
   "outputs": [],
   "source": [
    "search_job.send_keys('Data Scientist')"
   ]
  },
  {
   "cell_type": "code",
   "execution_count": null,
   "id": "b63f445c",
   "metadata": {},
   "outputs": [],
   "source": [
    "search_btn=driver.find_element_by_xpath('/html/body/div/div[2]/div[3]/div/div/div[6]')\n",
    "search_btn"
   ]
  },
  {
   "cell_type": "code",
   "execution_count": null,
   "id": "90f366a8",
   "metadata": {},
   "outputs": [],
   "source": [
    "search_btn.click()"
   ]
  },
  {
   "cell_type": "code",
   "execution_count": null,
   "id": "f7b69763",
   "metadata": {},
   "outputs": [],
   "source": [
    "filter_location=driver.find_element_by_xpath('/html/body/div[1]/div[3]/div[2]/section[1]/div[2]/div[3]/div[2]/div[3]/label/i')\n",
    "filter_location"
   ]
  },
  {
   "cell_type": "code",
   "execution_count": null,
   "id": "2fd2a0dd",
   "metadata": {},
   "outputs": [],
   "source": [
    "filter_location.click()"
   ]
  },
  {
   "cell_type": "code",
   "execution_count": null,
   "id": "89316819",
   "metadata": {},
   "outputs": [],
   "source": [
    "filter_salary=driver.find_element_by_xpath('/html/body/div[1]/div[3]/div[2]/section[1]/div[2]/div[4]/div[2]/div[2]/label/i')\n",
    "filter_salary"
   ]
  },
  {
   "cell_type": "code",
   "execution_count": null,
   "id": "8d192e2d",
   "metadata": {},
   "outputs": [],
   "source": [
    "filter_salary.click()"
   ]
  },
  {
   "cell_type": "markdown",
   "id": "79ee21a3",
   "metadata": {},
   "source": [
    "#  Extracting Titles"
   ]
  },
  {
   "cell_type": "code",
   "execution_count": null,
   "id": "b4f58d0b",
   "metadata": {},
   "outputs": [],
   "source": [
    "stitle_tags = driver.find_elements_by_xpath('//a[@class=\"title fw500 ellipsis\"]')\n",
    "len(stitle_tags)\n",
    "stitle_tags[0:10]"
   ]
  },
  {
   "cell_type": "code",
   "execution_count": null,
   "id": "9231183f",
   "metadata": {},
   "outputs": [],
   "source": [
    "job_stitles=[]\n",
    "\n",
    "for i in stitle_tags:\n",
    "    job_stitles.append(i.text)\n",
    "len(job_stitles)\n",
    "h=job_stitles[0:10]\n",
    "h"
   ]
  },
  {
   "cell_type": "markdown",
   "id": "08c4a4de",
   "metadata": {},
   "source": [
    "#  Extracting location"
   ]
  },
  {
   "cell_type": "code",
   "execution_count": null,
   "id": "decac549",
   "metadata": {},
   "outputs": [],
   "source": [
    "slocation = driver.find_elements_by_xpath('//li[@class=\"fleft grey-text br2 placeHolderLi location\"]')\n",
    "len(slocation)\n",
    "slocation[0:10]"
   ]
  },
  {
   "cell_type": "code",
   "execution_count": null,
   "id": "8cd24be9",
   "metadata": {},
   "outputs": [],
   "source": [
    "location_stags=[]\n",
    "\n",
    "for i in slocation:\n",
    "    location_stags.append(i.text)\n",
    "len(location_stags)\n",
    "j=location_stags[0:10]\n",
    "j"
   ]
  },
  {
   "cell_type": "markdown",
   "id": "33f2c9c8",
   "metadata": {},
   "source": [
    "# Extrating company names"
   ]
  },
  {
   "cell_type": "code",
   "execution_count": null,
   "id": "4abec474",
   "metadata": {},
   "outputs": [],
   "source": [
    "scompany_names = driver.find_elements_by_xpath('//a[@class=\"subTitle ellipsis fleft\"]')\n",
    "len(scompany_names)\n",
    "scompany_names[0:10]\n"
   ]
  },
  {
   "cell_type": "code",
   "execution_count": null,
   "id": "10fe22da",
   "metadata": {},
   "outputs": [],
   "source": [
    "company_stitles=[]\n",
    "\n",
    "for i in scompany_names:\n",
    "    company_stitles.append(i.text)\n",
    "len(company_stitles)\n",
    "k=company_stitles[0:10]\n",
    "k"
   ]
  },
  {
   "cell_type": "markdown",
   "id": "61b4ebde",
   "metadata": {},
   "source": [
    "# Extracting experience"
   ]
  },
  {
   "cell_type": "code",
   "execution_count": null,
   "id": "534d729a",
   "metadata": {},
   "outputs": [],
   "source": [
    "exp_sreqd = driver.find_elements_by_xpath('//li[@class=\"fleft grey-text br2 placeHolderLi experience\"]')\n",
    "len(exp_sreqd)\n",
    "exp_sreqd[0:10]"
   ]
  },
  {
   "cell_type": "code",
   "execution_count": null,
   "id": "d9776230",
   "metadata": {},
   "outputs": [],
   "source": [
    "exp_stags=[]\n",
    "\n",
    "for i in exp_sreqd:\n",
    "    exp_stags.append(i.text)\n",
    "len(exp_stags)\n",
    "l=exp_stags[0:10]\n",
    "l"
   ]
  },
  {
   "cell_type": "code",
   "execution_count": null,
   "id": "1bef0a29",
   "metadata": {},
   "outputs": [],
   "source": [
    "sjobs=pd.DataFrame()\n",
    "sjobs['Job Title']=h\n",
    "sjobs['Location']=k\n",
    "sjobs['Company']=j\n",
    "sjobs['Experience Required']=l\n",
    "sjobs"
   ]
  },
  {
   "cell_type": "code",
   "execution_count": null,
   "id": "f987b551",
   "metadata": {},
   "outputs": [],
   "source": []
  },
  {
   "cell_type": "markdown",
   "id": "4c86e566",
   "metadata": {},
   "source": [
    "Q4: Scrape data of first 100 sunglasses listings on flipkart.com. You have to scrape four attributes: \n",
    "\n",
    "1. Brand\n",
    "2. Product Description\n",
    "3. Price\n",
    "\n",
    "The attributes which you have to scrape is ticked marked in the below image.\n",
    "\n",
    "To scrape the data you have to go through following steps:\n",
    "1. Go to Flipkart webpage by url : https://www.flipkart.com/\n",
    "2. Enter “sunglasses” in the search field where “search for products, brands andmore” is written and\n",
    "click the search icon\n",
    "3. After that you will reach to the page having a lot of sunglasses. From this pageyou can scrap the\n",
    "required data as usual.\n",
    "4. After scraping data from the first page, go to the “Next” Button at the bottom ofthe page , then click on it.\n",
    "5. Now scrape data from this page as usual\n",
    "6. Repeat this until you get data for 100 sunglasses.\n",
    "\n",
    "\n",
    "Note: That all of the above steps have to be done by coding only and not manually."
   ]
  },
  {
   "cell_type": "code",
   "execution_count": null,
   "id": "1ffc89f7",
   "metadata": {},
   "outputs": [],
   "source": [
    "import selenium \n",
    "from selenium import webdriver\n",
    "import pandas as pd\n",
    "import warnings\n",
    "warnings.filterwarnings('ignore')"
   ]
  },
  {
   "cell_type": "code",
   "execution_count": null,
   "id": "a4ad7538",
   "metadata": {},
   "outputs": [],
   "source": [
    "#let's first connect to web driver\n",
    "driver=webdriver.Chrome(r'/Users/vikram/Documents/chromedriver')"
   ]
  },
  {
   "cell_type": "code",
   "execution_count": null,
   "id": "3094e425",
   "metadata": {},
   "outputs": [],
   "source": [
    "url='https://www.flipkart.com/'\n",
    "driver.get(url)    "
   ]
  },
  {
   "cell_type": "code",
   "execution_count": null,
   "id": "8743a6c9",
   "metadata": {},
   "outputs": [],
   "source": [
    "search_btn=driver.find_element_by_xpath('/html/body/div[1]/div/div[1]/div[1]/div[2]/div[2]/form/div/div/input')\n",
    "search_btn"
   ]
  },
  {
   "cell_type": "code",
   "execution_count": null,
   "id": "0603bd48",
   "metadata": {},
   "outputs": [],
   "source": [
    "search_btn.send_keys('Sunglasses')"
   ]
  },
  {
   "cell_type": "code",
   "execution_count": null,
   "id": "2be8d633",
   "metadata": {},
   "outputs": [],
   "source": [
    "search_icon=driver.find_element_by_xpath('/html/body/div[1]/div/div[1]/div[1]/div[2]/div[2]/form/div/button')\n",
    "search_icon\n"
   ]
  },
  {
   "cell_type": "code",
   "execution_count": null,
   "id": "789e6d63",
   "metadata": {},
   "outputs": [],
   "source": [
    "search_icon.click()"
   ]
  },
  {
   "cell_type": "code",
   "execution_count": null,
   "id": "91a90480",
   "metadata": {},
   "outputs": [],
   "source": [
    "brand_names = driver.find_elements_by_xpath('//div[@class=\"_2WkVRV\"]')\n",
    "brand_names"
   ]
  },
  {
   "cell_type": "code",
   "execution_count": null,
   "id": "2ca53a17",
   "metadata": {},
   "outputs": [],
   "source": [
    "company_name=[]\n",
    "\n",
    "for i in brand_names:\n",
    "    company_name.append(i.text)\n",
    "company_name    "
   ]
  },
  {
   "cell_type": "code",
   "execution_count": null,
   "id": "b0bb58a3",
   "metadata": {},
   "outputs": [],
   "source": [
    "desc = driver.find_elements_by_xpath('//a[@class=\"IRpwTa\"]')\n",
    "desc"
   ]
  },
  {
   "cell_type": "code",
   "execution_count": null,
   "id": "5d0b7040",
   "metadata": {},
   "outputs": [],
   "source": [
    "description=[]\n",
    "\n",
    "for i in desc:\n",
    "    description.append(i.text)\n",
    "description    "
   ]
  },
  {
   "cell_type": "code",
   "execution_count": null,
   "id": "f425662e",
   "metadata": {},
   "outputs": [],
   "source": [
    "rate = driver.find_elements_by_xpath('//div[@class=\"_30jeq3\"]')\n",
    "rate"
   ]
  },
  {
   "cell_type": "code",
   "execution_count": null,
   "id": "64ca1df0",
   "metadata": {},
   "outputs": [],
   "source": [
    "price=[]\n",
    "\n",
    "for i in rate:\n",
    "    price.append(i.text)\n",
    "    \n",
    "price"
   ]
  },
  {
   "cell_type": "code",
   "execution_count": null,
   "id": "2ad63b8e",
   "metadata": {},
   "outputs": [],
   "source": [
    "dis=driver.find_elements_by_xpath('//div[@class=\"_3Ay6Sb\"]')\n",
    "dis"
   ]
  },
  {
   "cell_type": "code",
   "execution_count": null,
   "id": "f2e31e1c",
   "metadata": {},
   "outputs": [],
   "source": [
    "disc=[]\n",
    "\n",
    "for i in dis:\n",
    "    disc.append(i.text)\n",
    "    \n",
    "disc"
   ]
  },
  {
   "cell_type": "code",
   "execution_count": null,
   "id": "4537dc1a",
   "metadata": {},
   "outputs": [],
   "source": [
    "nxt_btn=driver.find_element_by_xpath('/html/body/div[1]/div/div[3]/div[1]/div[2]/div[12]/div/div/nav/a[11]/span')\n",
    "nxt_btn"
   ]
  },
  {
   "cell_type": "code",
   "execution_count": null,
   "id": "f25bca75",
   "metadata": {},
   "outputs": [],
   "source": [
    "nxt_btn.click()"
   ]
  },
  {
   "cell_type": "code",
   "execution_count": null,
   "id": "ded7efe8",
   "metadata": {},
   "outputs": [],
   "source": [
    "brand_names_nxt = driver.find_elements_by_xpath('//div[@class=\"_2WkVRV\"]')\n",
    "brand_names_nxt"
   ]
  },
  {
   "cell_type": "code",
   "execution_count": null,
   "id": "8162eb15",
   "metadata": {},
   "outputs": [],
   "source": [
    "company_name_nxt=[]\n",
    "\n",
    "for i in brand_names_nxt:\n",
    "    company_name_nxt.append(i.text)\n",
    "company_name_nxt    "
   ]
  },
  {
   "cell_type": "code",
   "execution_count": null,
   "id": "901ea432",
   "metadata": {},
   "outputs": [],
   "source": [
    "desc_nxt = driver.find_elements_by_xpath('//a[@class=\"IRpwTa\"]')\n",
    "desc_nxt"
   ]
  },
  {
   "cell_type": "code",
   "execution_count": null,
   "id": "2779e740",
   "metadata": {},
   "outputs": [],
   "source": [
    "description_nxt=[]\n",
    "\n",
    "for i in desc_nxt:\n",
    "    description_nxt.append(i.text)\n",
    "description_nxt    "
   ]
  },
  {
   "cell_type": "code",
   "execution_count": null,
   "id": "2dd48ed7",
   "metadata": {},
   "outputs": [],
   "source": [
    "rate_nxt = driver.find_elements_by_xpath('//div[@class=\"_30jeq3\"]')\n",
    "rate_nxt"
   ]
  },
  {
   "cell_type": "code",
   "execution_count": null,
   "id": "4637d974",
   "metadata": {},
   "outputs": [],
   "source": [
    "price_nxt=[]\n",
    "\n",
    "for i in rate_nxt:\n",
    "    price_nxt.append(i.text)\n",
    "    \n",
    "price_nxt"
   ]
  },
  {
   "cell_type": "code",
   "execution_count": null,
   "id": "751a2d7f",
   "metadata": {},
   "outputs": [],
   "source": [
    "dis_nxt=driver.find_elements_by_xpath('//div[@class=\"_3Ay6Sb\"]')\n",
    "dis_nxt"
   ]
  },
  {
   "cell_type": "code",
   "execution_count": null,
   "id": "1164c943",
   "metadata": {},
   "outputs": [],
   "source": [
    "disc_nxt=[]\n",
    "\n",
    "for i in dis_nxt:\n",
    "    disc_nxt.append(i.text)\n",
    "    \n",
    "disc_nxt"
   ]
  },
  {
   "cell_type": "code",
   "execution_count": null,
   "id": "4bf56a11",
   "metadata": {},
   "outputs": [],
   "source": [
    "nxt_btn1=driver.find_element_by_xpath('/html/body/div[1]/div/div[3]/div[1]/div[2]/div[12]/div/div/nav/a[12]/span')\n",
    "nxt_btn1"
   ]
  },
  {
   "cell_type": "code",
   "execution_count": null,
   "id": "b814ded9",
   "metadata": {},
   "outputs": [],
   "source": [
    "nxt_btn1.click()"
   ]
  },
  {
   "cell_type": "code",
   "execution_count": null,
   "id": "8c7f1673",
   "metadata": {},
   "outputs": [],
   "source": [
    "brand_names_nxt1 = driver.find_elements_by_xpath('//div[@class=\"_2WkVRV\"]')\n",
    "len(brand_names_nxt1)\n",
    "brand_names_nxt1[0:20]"
   ]
  },
  {
   "cell_type": "code",
   "execution_count": null,
   "id": "5c1e4ab5",
   "metadata": {},
   "outputs": [],
   "source": [
    "company_name_nxt1=[]\n",
    "\n",
    "for i in brand_names_nxt1:\n",
    "    company_name_nxt1.append(i.text)\n",
    "len(company_name_nxt1)\n",
    "company_name_nxt1[0:20]"
   ]
  },
  {
   "cell_type": "code",
   "execution_count": null,
   "id": "bb09c973",
   "metadata": {},
   "outputs": [],
   "source": [
    "desc_nxt1 = driver.find_elements_by_xpath('//a[@class=\"IRpwTa\"]')\n",
    "len(desc_nxt1)\n",
    "desc_nxt1[0:20]"
   ]
  },
  {
   "cell_type": "code",
   "execution_count": null,
   "id": "62e7b3f0",
   "metadata": {},
   "outputs": [],
   "source": [
    "description_nxt1=[]\n",
    "\n",
    "for i in desc_nxt1:\n",
    "    description_nxt1.append(i.text)\n",
    "len(description_nxt1)   \n",
    "description_nxt1[0:20]"
   ]
  },
  {
   "cell_type": "code",
   "execution_count": null,
   "id": "a7689b9a",
   "metadata": {},
   "outputs": [],
   "source": [
    "rate_nxt1 = driver.find_elements_by_xpath('//div[@class=\"_30jeq3\"]')\n",
    "len(rate_nxt1)\n",
    "rate_nxt1[0:20]"
   ]
  },
  {
   "cell_type": "code",
   "execution_count": null,
   "id": "3cb47a7b",
   "metadata": {},
   "outputs": [],
   "source": [
    "price_nxt1=[]\n",
    "\n",
    "for i in rate_nxt1:\n",
    "    price_nxt1.append(i.text)\n",
    "    \n",
    "len(price_nxt1)\n",
    "price_nxt1[0:20]"
   ]
  },
  {
   "cell_type": "code",
   "execution_count": null,
   "id": "13bfe9a4",
   "metadata": {},
   "outputs": [],
   "source": [
    "dis_nxt1=driver.find_elements_by_xpath('//div[@class=\"_3Ay6Sb\"]')\n",
    "len(dis_nxt1)\n",
    "dis_nxt1[0:20]"
   ]
  },
  {
   "cell_type": "code",
   "execution_count": null,
   "id": "b2a96a07",
   "metadata": {},
   "outputs": [],
   "source": [
    "disc_nxt1=[]\n",
    "\n",
    "for i in dis_nxt1:\n",
    "    disc_nxt1.append(i.text)\n",
    "    \n",
    "len(disc_nxt1)\n",
    "disc_nxt1[0:20]"
   ]
  },
  {
   "cell_type": "code",
   "execution_count": null,
   "id": "d7bf732c",
   "metadata": {},
   "outputs": [],
   "source": []
  },
  {
   "cell_type": "markdown",
   "id": "ccf23022",
   "metadata": {},
   "source": [
    "Q5: Scrape 100 reviews data from flipkart.com for iphone11 phone. You have to go the link:\n",
    "\n",
    "https://www.flipkart.com/apple-iphone-11-black-64-gb-includes- earpods-power- adapter/p/itm0f37c2240b217?pid=MOBFKCTSVZAXUHGR&lid=LSTMOBFKC TSVZAXUHGREPBFGI&marketplace.\n",
    "\n",
    "When you will open the above link you will reach to the below shown webpage .\n",
    "\n",
    "As shown in the above page you have to scrape the tick marked attributes.These are:\n",
    "\n",
    "1. Rating\n",
    "2. Review summary\n",
    "3. Full review\n",
    "4. You have to scrape this data for first 100 reviews.\n",
    "\n",
    "Note: All the steps required during scraping should be done through code only and not manually.\n"
   ]
  },
  {
   "cell_type": "code",
   "execution_count": null,
   "id": "29479fe2",
   "metadata": {},
   "outputs": [],
   "source": [
    "import selenium \n",
    "from selenium import webdriver\n",
    "import pandas as pd\n",
    "import warnings\n",
    "warnings.filterwarnings('ignore')"
   ]
  },
  {
   "cell_type": "code",
   "execution_count": null,
   "id": "2dd51f83",
   "metadata": {},
   "outputs": [],
   "source": [
    "#let's first connect to web driver\n",
    "driver=webdriver.Chrome(r'/Users/vikram/Documents/chromedriver')"
   ]
  },
  {
   "cell_type": "code",
   "execution_count": null,
   "id": "8e5720cc",
   "metadata": {},
   "outputs": [],
   "source": [
    "url='https://www.flipkart.com/apple-iphone-11-black-64-gb-includes- earpods-power- adapter/p/itm0f37c2240b217?pid=MOBFKCTSVZAXUHGR&lid=LSTMOBFKC TSVZAXUHGREPBFGI&marketplace'\n",
    "\n",
    "driver.get(url)    "
   ]
  },
  {
   "cell_type": "code",
   "execution_count": null,
   "id": "54bd221e",
   "metadata": {},
   "outputs": [],
   "source": [
    "all_review=driver.find_element_by_xpath('/html/body/div/div/div[3]/div[1]/div[2]/div[8]/div/div/div[5]/div/a/div/span')\n",
    "all_review\n"
   ]
  },
  {
   "cell_type": "code",
   "execution_count": null,
   "id": "05f40583",
   "metadata": {},
   "outputs": [],
   "source": [
    "all_review.click()"
   ]
  },
  {
   "cell_type": "code",
   "execution_count": null,
   "id": "85092350",
   "metadata": {},
   "outputs": [],
   "source": [
    "ratings1=driver.find_elements_by_xpath('//div[@class=\"_3LWZlK _1BLPMq\"]')\n",
    "ratings1\n"
   ]
  },
  {
   "cell_type": "code",
   "execution_count": null,
   "id": "3431f917",
   "metadata": {},
   "outputs": [],
   "source": [
    "rating_plus1=[]\n",
    "\n",
    "for i in ratings1:\n",
    "    rating_plus1.append(i.text)\n",
    "    \n",
    "rating_plus1"
   ]
  },
  {
   "cell_type": "code",
   "execution_count": null,
   "id": "87ac5708",
   "metadata": {},
   "outputs": [],
   "source": [
    "review1=driver.find_elements_by_xpath('//p[@class=\"_2-N8zT\"]')\n",
    "review1"
   ]
  },
  {
   "cell_type": "code",
   "execution_count": null,
   "id": "0f57abb3",
   "metadata": {},
   "outputs": [],
   "source": [
    "review_plus1=[]\n",
    "\n",
    "for i in review1:\n",
    "    review_plus1.append(i.text)\n",
    "    \n",
    "review_plus1"
   ]
  },
  {
   "cell_type": "code",
   "execution_count": null,
   "id": "921b06ed",
   "metadata": {},
   "outputs": [],
   "source": [
    "freview1=driver.find_elements_by_xpath('//div[@class=\"t-ZTKy\"]')\n",
    "freview1\n"
   ]
  },
  {
   "cell_type": "code",
   "execution_count": null,
   "id": "727e6747",
   "metadata": {},
   "outputs": [],
   "source": [
    "freview_plus1=[]\n",
    "\n",
    "for i in freview1:\n",
    "    freview_plus1.append(i.text.replace('\\n',''))\n",
    "    \n",
    "freview_plus1"
   ]
  },
  {
   "cell_type": "code",
   "execution_count": null,
   "id": "3946ae59",
   "metadata": {},
   "outputs": [],
   "source": [
    "nextp1=driver.find_element_by_xpath('/html/body/div/div/div[3]/div/div/div[2]/div[13]/div/div/nav/a[11]/span')\n",
    "nextp1\n"
   ]
  },
  {
   "cell_type": "code",
   "execution_count": null,
   "id": "f8d15f6d",
   "metadata": {},
   "outputs": [],
   "source": [
    "nextp1.click()"
   ]
  },
  {
   "cell_type": "code",
   "execution_count": null,
   "id": "96397e77",
   "metadata": {},
   "outputs": [],
   "source": [
    "ratings2=driver.find_elements_by_xpath('//div[@class=\"_3LWZlK _1BLPMq\"]')\n",
    "ratings2\n"
   ]
  },
  {
   "cell_type": "code",
   "execution_count": null,
   "id": "5d65ff8b",
   "metadata": {},
   "outputs": [],
   "source": [
    "rating_plus2=[]\n",
    "\n",
    "for i in ratings2:\n",
    "    rating_plus2.append(i.text)\n",
    "    \n",
    "rating_plus2"
   ]
  },
  {
   "cell_type": "code",
   "execution_count": null,
   "id": "bfa46174",
   "metadata": {},
   "outputs": [],
   "source": [
    "freview2=driver.find_elements_by_xpath('//p[@class=\"_2-N8zT\"]')\n",
    "freview2"
   ]
  },
  {
   "cell_type": "code",
   "execution_count": null,
   "id": "fb2c4e92",
   "metadata": {},
   "outputs": [],
   "source": [
    "freview_plus2=[]\n",
    "\n",
    "for i in freview2:\n",
    "    freview_plus2.append(i.text)\n",
    "    \n",
    "freview_plus2"
   ]
  },
  {
   "cell_type": "code",
   "execution_count": null,
   "id": "682496e3",
   "metadata": {},
   "outputs": [],
   "source": [
    "f_review2=driver.find_elements_by_xpath('//div[@class=\"t-ZTKy\"]')\n",
    "f_review2\n",
    "\n",
    "f_review_plus2=[]\n",
    "\n",
    "for i in f_review2:\n",
    "    f_review_plus2.append(i.text.replace('\\n',''))\n",
    "    \n",
    "f_review_plus2"
   ]
  },
  {
   "cell_type": "code",
   "execution_count": null,
   "id": "7c4f7a7f",
   "metadata": {},
   "outputs": [],
   "source": [
    "nextp2=driver.find_element_by_xpath('/html/body/div/div/div[3]/div/div/div[2]/div[13]/div/div/nav/a[12]/span')\n",
    "nextp2\n",
    "\n",
    "nextp2.click()"
   ]
  },
  {
   "cell_type": "code",
   "execution_count": null,
   "id": "c6752eae",
   "metadata": {},
   "outputs": [],
   "source": [
    "ratings3=driver.find_elements_by_xpath('//div[@class=\"_3LWZlK _1BLPMq\"]')\n",
    "ratings3\n",
    "\n",
    "rating_plus3=[]\n",
    "\n",
    "for i in ratings3:\n",
    "    rating_plus3.append(i.text)\n",
    "    \n",
    "rating_plus3"
   ]
  },
  {
   "cell_type": "code",
   "execution_count": null,
   "id": "7410abc4",
   "metadata": {},
   "outputs": [],
   "source": [
    "hreview3=driver.find_elements_by_xpath('//p[@class=\"_2-N8zT\"]')\n",
    "hreview3\n",
    "\n",
    "hreview_plus3=[]\n",
    "\n",
    "for i in hreview3:\n",
    "    hreview_plus3.append(i.text)\n",
    "    \n",
    "hreview_plus3"
   ]
  },
  {
   "cell_type": "code",
   "execution_count": null,
   "id": "c058603a",
   "metadata": {},
   "outputs": [],
   "source": [
    "f3review3=driver.find_elements_by_xpath('//div[@class=\"t-ZTKy\"]')\n",
    "f3review3\n",
    "\n",
    "f3review_plus3=[]\n",
    "\n",
    "for i in f3review3:\n",
    "    f3review_plus3.append(i.text.replace('\\n',''))\n",
    "    \n",
    "f3review_plus3"
   ]
  },
  {
   "cell_type": "code",
   "execution_count": null,
   "id": "46daeb78",
   "metadata": {},
   "outputs": [],
   "source": [
    "nextp3=driver.find_element_by_xpath('/html/body/div[1]/div/div[3]/div/div/div[2]/div[13]/div/div/nav/a[12]/span')\n",
    "nextp3\n",
    "\n",
    "nextp3.click()"
   ]
  },
  {
   "cell_type": "code",
   "execution_count": null,
   "id": "3d532e32",
   "metadata": {},
   "outputs": [],
   "source": [
    "ratings4=driver.find_elements_by_xpath('//div[@class=\"_3LWZlK _1BLPMq\"]')\n",
    "ratings4\n",
    "\n",
    "rating_plus4=[]\n",
    "\n",
    "for i in ratings4:\n",
    "    rating_plus4.append(i.text)\n",
    "    \n",
    "rating_plus4\n"
   ]
  },
  {
   "cell_type": "code",
   "execution_count": null,
   "id": "fb5c3385",
   "metadata": {},
   "outputs": [],
   "source": [
    "\n",
    "review4=driver.find_elements_by_xpath('//p[@class=\"_2-N8zT\"]')\n",
    "review4\n",
    "\n",
    "review_plus4=[]\n",
    "\n",
    "for i in review4:\n",
    "    review_plus4.append(i.text)\n",
    "    \n",
    "review_plus4"
   ]
  },
  {
   "cell_type": "code",
   "execution_count": null,
   "id": "6218a28b",
   "metadata": {},
   "outputs": [],
   "source": [
    "freview4=driver.find_elements_by_xpath('//div[@class=\"t-ZTKy\"]')\n",
    "freview4\n",
    "\n",
    "freview_plus4=[]\n",
    "\n",
    "for i in freview4:\n",
    "    freview_plus4.append(i.text.replace('\\n',''))\n",
    "    \n",
    "freview_plus4"
   ]
  },
  {
   "cell_type": "code",
   "execution_count": null,
   "id": "eb3f7109",
   "metadata": {},
   "outputs": [],
   "source": [
    "nextp4=driver.find_element_by_xpath('/html/body/div[1]/div/div[3]/div/div/div[2]/div[13]/div/div/nav/a[12]/span')\n",
    "nextp4\n",
    "\n",
    "nextp4.click()"
   ]
  },
  {
   "cell_type": "code",
   "execution_count": null,
   "id": "f490be94",
   "metadata": {},
   "outputs": [],
   "source": [
    "ratings5=driver.find_elements_by_xpath('//div[@class=\"_3LWZlK _1BLPMq\"]')\n",
    "ratings5\n",
    "\n",
    "rating_plus5=[]\n",
    "\n",
    "for i in ratings5:\n",
    "    rating_plus5.append(i.text)\n",
    "    \n",
    "rating_plus5\n",
    "\n"
   ]
  },
  {
   "cell_type": "code",
   "execution_count": null,
   "id": "e62c02c5",
   "metadata": {},
   "outputs": [],
   "source": [
    "\n",
    "review5=driver.find_elements_by_xpath('//p[@class=\"_2-N8zT\"]')\n",
    "review5\n",
    "\n",
    "review_plus5=[]\n",
    "\n",
    "for i in review5:\n",
    "    review_plus5.append(i.text)\n",
    "    \n",
    "review_plus5"
   ]
  },
  {
   "cell_type": "code",
   "execution_count": null,
   "id": "6253b657",
   "metadata": {},
   "outputs": [],
   "source": [
    "freview5=driver.find_elements_by_xpath('//div[@class=\"t-ZTKy\"]')\n",
    "freview5\n",
    "\n",
    "freview_plus5=[]\n",
    "\n",
    "for i in freview5:\n",
    "    freview_plus5.append(i.text.replace('\\n',''))\n",
    "    \n",
    "freview_plus5"
   ]
  },
  {
   "cell_type": "code",
   "execution_count": null,
   "id": "c8c64c9c",
   "metadata": {},
   "outputs": [],
   "source": [
    "nextp5=driver.find_element_by_xpath('/html/body/div[1]/div/div[3]/div/div/div[2]/div[13]/div/div/nav/a[12]/span')\n",
    "nextp5\n",
    "\n",
    "nextp5.click()"
   ]
  },
  {
   "cell_type": "code",
   "execution_count": null,
   "id": "99134a9e",
   "metadata": {},
   "outputs": [],
   "source": [
    "ratings6=driver.find_elements_by_xpath('//div[@class=\"_3LWZlK _1BLPMq\"]')\n",
    "ratings6\n",
    "\n",
    "rating_plus6=[]\n",
    "\n",
    "for i in ratings6:\n",
    "    rating_plus6.append(i.text)\n",
    "    \n",
    "rating_plus6\n",
    "\n",
    "\n"
   ]
  },
  {
   "cell_type": "code",
   "execution_count": null,
   "id": "d0d7321f",
   "metadata": {},
   "outputs": [],
   "source": [
    "\n",
    "review6=driver.find_elements_by_xpath('//p[@class=\"_2-N8zT\"]')\n",
    "review6\n",
    "\n",
    "review_plus6=[]\n",
    "\n",
    "for i in review6:\n",
    "    review_plus6.append(i.text)\n",
    "    \n",
    "review_plus6"
   ]
  },
  {
   "cell_type": "code",
   "execution_count": null,
   "id": "58bb4d33",
   "metadata": {},
   "outputs": [],
   "source": [
    "freview6=driver.find_elements_by_xpath('//div[@class=\"t-ZTKy\"]')\n",
    "freview6\n",
    "\n",
    "freview_plus6=[]\n",
    "\n",
    "for i in freview6:\n",
    "    freview_plus6.append(i.text.replace('\\n',''))\n",
    "    \n",
    "freview_plus6"
   ]
  },
  {
   "cell_type": "code",
   "execution_count": null,
   "id": "040fe851",
   "metadata": {},
   "outputs": [],
   "source": [
    "nextp6=driver.find_element_by_xpath('/html/body/div[1]/div/div[3]/div/div/div[2]/div[13]/div/div/nav/a[12]/span')\n",
    "nextp6\n",
    "\n",
    "nextp6.click()"
   ]
  },
  {
   "cell_type": "code",
   "execution_count": null,
   "id": "49fce66c",
   "metadata": {},
   "outputs": [],
   "source": [
    "ratings7=driver.find_elements_by_xpath('//div[@class=\"_3LWZlK _1BLPMq\"]')\n",
    "ratings7\n",
    "\n",
    "rating_plus7=[]\n",
    "\n",
    "for i in ratings7:\n",
    "    rating_plus7.append(i.text)\n",
    "    \n",
    "rating_plus7"
   ]
  },
  {
   "cell_type": "code",
   "execution_count": null,
   "id": "fed92140",
   "metadata": {},
   "outputs": [],
   "source": [
    "\n",
    "review7=driver.find_elements_by_xpath('//p[@class=\"_2-N8zT\"]')\n",
    "review7\n",
    "\n",
    "review_plus7=[]\n",
    "\n",
    "for i in review7:\n",
    "    review_plus7.append(i.text)\n",
    "    \n",
    "review_plus7"
   ]
  },
  {
   "cell_type": "code",
   "execution_count": null,
   "id": "e02fd39a",
   "metadata": {},
   "outputs": [],
   "source": [
    "freview7=driver.find_elements_by_xpath('//div[@class=\"t-ZTKy\"]')\n",
    "freview7\n",
    "\n",
    "freview_plus7=[]\n",
    "\n",
    "for i in freview7:\n",
    "    freview_plus7.append(i.text.replace('\\n',''))\n",
    "    \n",
    "freview_plus7"
   ]
  },
  {
   "cell_type": "code",
   "execution_count": null,
   "id": "91aceaea",
   "metadata": {},
   "outputs": [],
   "source": [
    "nextp7=driver.find_element_by_xpath('/html/body/div[1]/div/div[3]/div/div/div[2]/div[13]/div/div/nav/a[12]/span')\n",
    "nextp7\n",
    "\n",
    "nextp7.click()"
   ]
  },
  {
   "cell_type": "code",
   "execution_count": null,
   "id": "0e4e886a",
   "metadata": {},
   "outputs": [],
   "source": [
    "ratings8=driver.find_elements_by_xpath('//div[@class=\"_3LWZlK _1BLPMq\"]')\n",
    "ratings8\n",
    "\n",
    "rating_plus8=[]\n",
    "\n",
    "for i in ratings8:\n",
    "    rating_plus8.append(i.text)\n",
    "    \n",
    "rating_plus8"
   ]
  },
  {
   "cell_type": "code",
   "execution_count": null,
   "id": "65c926b1",
   "metadata": {},
   "outputs": [],
   "source": [
    "\n",
    "review8=driver.find_elements_by_xpath('//p[@class=\"_2-N8zT\"]')\n",
    "review8\n",
    "\n",
    "review_plus8=[]\n",
    "\n",
    "for i in review8:\n",
    "    review_plus8.append(i.text)\n",
    "    \n",
    "review_plus8"
   ]
  },
  {
   "cell_type": "code",
   "execution_count": null,
   "id": "a1ad5dfb",
   "metadata": {},
   "outputs": [],
   "source": [
    "freview8=driver.find_elements_by_xpath('//div[@class=\"t-ZTKy\"]')\n",
    "freview8\n",
    "\n",
    "freview_plus8=[]\n",
    "\n",
    "for i in freview8:\n",
    "    freview_plus8.append(i.text.replace('\\n',''))\n",
    "    \n",
    "freview_plus8"
   ]
  },
  {
   "cell_type": "code",
   "execution_count": null,
   "id": "cf84f05b",
   "metadata": {},
   "outputs": [],
   "source": [
    "nextp8=driver.find_element_by_xpath('/html/body/div[1]/div/div[3]/div/div/div[2]/div[13]/div/div/nav/a[12]/span')\n",
    "nextp8\n",
    "\n",
    "nextp8.click()"
   ]
  },
  {
   "cell_type": "code",
   "execution_count": null,
   "id": "543cf0b4",
   "metadata": {},
   "outputs": [],
   "source": [
    "ratings9=driver.find_elements_by_xpath('//div[@class=\"_3LWZlK _1BLPMq\"]')\n",
    "ratings9\n",
    "\n",
    "rating_plus9=[]\n",
    "\n",
    "for i in ratings9:\n",
    "    rating_plus9.append(i.text)\n",
    "    \n",
    "rating_plus9"
   ]
  },
  {
   "cell_type": "code",
   "execution_count": null,
   "id": "0925b798",
   "metadata": {},
   "outputs": [],
   "source": [
    "\n",
    "review9=driver.find_elements_by_xpath('//p[@class=\"_2-N8zT\"]')\n",
    "review9\n",
    "\n",
    "review_plus9=[]\n",
    "\n",
    "for i in review9:\n",
    "    review_plus9.append(i.text)\n",
    "    \n",
    "review_plus9"
   ]
  },
  {
   "cell_type": "code",
   "execution_count": null,
   "id": "cb6e2489",
   "metadata": {},
   "outputs": [],
   "source": [
    "freview9=driver.find_elements_by_xpath('//div[@class=\"t-ZTKy\"]')\n",
    "freview9\n",
    "\n",
    "freview_plus9=[]\n",
    "\n",
    "for i in freview9:\n",
    "    freview_plus9.append(i.text.replace('\\n',''))\n",
    "    \n",
    "freview_plus9"
   ]
  },
  {
   "cell_type": "code",
   "execution_count": null,
   "id": "a118315b",
   "metadata": {},
   "outputs": [],
   "source": [
    "nextp9=driver.find_element_by_xpath('/html/body/div[1]/div/div[3]/div/div/div[2]/div[13]/div/div/nav/a[12]/span')\n",
    "nextp9\n",
    "\n",
    "nextp9.click()"
   ]
  },
  {
   "cell_type": "code",
   "execution_count": null,
   "id": "7b25bcf2",
   "metadata": {},
   "outputs": [],
   "source": [
    "ratings10=driver.find_elements_by_xpath('//div[@class=\"_3LWZlK _1BLPMq\"]')\n",
    "ratings10\n",
    "\n",
    "rating_plus10=[]\n",
    "\n",
    "for i in ratings10:\n",
    "    rating_plus10.append(i.text)\n",
    "    \n",
    "rating_plus10"
   ]
  },
  {
   "cell_type": "code",
   "execution_count": null,
   "id": "50f55363",
   "metadata": {},
   "outputs": [],
   "source": [
    "\n",
    "review10=driver.find_elements_by_xpath('//p[@class=\"_2-N8zT\"]')\n",
    "review10\n",
    "\n",
    "review_plus10=[]\n",
    "\n",
    "for i in review10:\n",
    "    review_plus10.append(i.text)\n",
    "    \n",
    "review_plus10"
   ]
  },
  {
   "cell_type": "code",
   "execution_count": null,
   "id": "d4116a20",
   "metadata": {},
   "outputs": [],
   "source": [
    "freview10=driver.find_elements_by_xpath('//div[@class=\"t-ZTKy\"]')\n",
    "freview10\n",
    "\n",
    "freview_plus10=[]\n",
    "\n",
    "for i in freview10:\n",
    "    freview_plus10.append(i.text.replace('\\n',''))\n",
    "    \n",
    "freview_plus10"
   ]
  },
  {
   "cell_type": "code",
   "execution_count": null,
   "id": "10352f81",
   "metadata": {},
   "outputs": [],
   "source": []
  },
  {
   "cell_type": "markdown",
   "id": "58909aab",
   "metadata": {},
   "source": [
    "Q6: Scrape data for first 100 sneakers you find when you visit flipkart.com andsearch for “sneakers” in the search field.\n",
    "\n",
    "You have to scrape 4 attributes of each sneaker:\n",
    "\n",
    "1. Brand\n",
    "2. Product Description\n",
    "3. Price\n",
    "\n",
    "As shown in the below image, you have to scrape the tick marked attributes."
   ]
  },
  {
   "cell_type": "code",
   "execution_count": null,
   "id": "0057cdce",
   "metadata": {},
   "outputs": [],
   "source": [
    "import selenium \n",
    "from selenium import webdriver\n",
    "import pandas as pd\n",
    "import warnings\n",
    "warnings.filterwarnings('ignore')"
   ]
  },
  {
   "cell_type": "code",
   "execution_count": null,
   "id": "558f3585",
   "metadata": {},
   "outputs": [],
   "source": [
    "#let's first connect to web driver\n",
    "driver=webdriver.Chrome(r'/Users/vikram/Documents/chromedriver')"
   ]
  },
  {
   "cell_type": "code",
   "execution_count": null,
   "id": "58cc70f9",
   "metadata": {},
   "outputs": [],
   "source": [
    "url='https://www.flipkart.com/'\n",
    "\n",
    "driver.get(url)"
   ]
  },
  {
   "cell_type": "code",
   "execution_count": null,
   "id": "118334e1",
   "metadata": {},
   "outputs": [],
   "source": [
    "select_search=driver.find_element_by_xpath('/html/body/div[1]/div/div[1]/div[1]/div[2]/div[2]/form/div/div/input')\n",
    "select_search\n",
    "\n",
    "\n",
    "select_search.send_keys('Sneakers')"
   ]
  },
  {
   "cell_type": "code",
   "execution_count": null,
   "id": "be746022",
   "metadata": {},
   "outputs": [],
   "source": [
    "search_button=driver.find_element_by_xpath('/html/body/div[1]/div/div[1]/div[1]/div[2]/div[2]/form/div/button')\n",
    "search_button\n",
    "\n",
    "\n",
    "search_button.click()"
   ]
  },
  {
   "cell_type": "code",
   "execution_count": null,
   "id": "4e4003a8",
   "metadata": {},
   "outputs": [],
   "source": [
    "br_name=driver.find_elements_by_xpath('//div[@class=\"_2WkVRV\"]')\n",
    "br_name\n",
    "\n",
    "br_name1=[]\n",
    "\n",
    "for i in br_name:\n",
    "    br_name1.append(i.text)\n",
    "    \n",
    "br_name1"
   ]
  },
  {
   "cell_type": "code",
   "execution_count": null,
   "id": "15a6da28",
   "metadata": {},
   "outputs": [],
   "source": [
    "cr_name=driver.find_elements_by_xpath('//a[@class=\"IRpwTa\"]')\n",
    "cr_name\n",
    "\n",
    "cr_name1=[]\n",
    "\n",
    "for i in cr_name:\n",
    "    cr_name1.append(i.text)\n",
    "    \n",
    "cr_name1"
   ]
  },
  {
   "cell_type": "code",
   "execution_count": null,
   "id": "72a744da",
   "metadata": {},
   "outputs": [],
   "source": [
    "pr_name=driver.find_elements_by_xpath('//div[@class=\"_30jeq3\"]')\n",
    "pr_name\n",
    "\n",
    "pr_name1=[]\n",
    "\n",
    "for i in pr_name:\n",
    "    pr_name1.append(i.text)\n",
    "    \n",
    "pr_name1"
   ]
  },
  {
   "cell_type": "code",
   "execution_count": null,
   "id": "62c25ad6",
   "metadata": {},
   "outputs": [],
   "source": [
    "dr_name=driver.find_elements_by_xpath('//div[@class=\"_3Ay6Sb\"]')\n",
    "dr_name\n",
    "\n",
    "dr_name1=[]\n",
    "\n",
    "for i in dr_name:\n",
    "    dr_name1.append(i.text)\n",
    "    \n",
    "dr_name1"
   ]
  },
  {
   "cell_type": "code",
   "execution_count": null,
   "id": "7fc2282c",
   "metadata": {},
   "outputs": [],
   "source": [
    "next_button=driver.find_element_by_xpath('/html/body/div[1]/div/div[3]/div[1]/div[2]/div[12]/div/div/nav/a[11]')\n",
    "next_button\n",
    "\n",
    "\n",
    "next_button.click()"
   ]
  },
  {
   "cell_type": "code",
   "execution_count": null,
   "id": "0530ce66",
   "metadata": {},
   "outputs": [],
   "source": [
    "br_name1=driver.find_elements_by_xpath('//div[@class=\"_2WkVRV\"]')\n",
    "br_name1\n",
    "\n",
    "br_name2=[]\n",
    "\n",
    "for i in br_name1:\n",
    "    br_name2.append(i.text)\n",
    "    \n",
    "br_name2"
   ]
  },
  {
   "cell_type": "code",
   "execution_count": null,
   "id": "7823efba",
   "metadata": {},
   "outputs": [],
   "source": [
    "cr_name1=driver.find_elements_by_xpath('//a[@class=\"IRpwTa\"]')\n",
    "cr_name1\n",
    "\n",
    "cr_name2=[]\n",
    "\n",
    "for i in cr_name1:\n",
    "    cr_name2.append(i.text)\n",
    "    \n",
    "cr_name2"
   ]
  },
  {
   "cell_type": "code",
   "execution_count": null,
   "id": "dbc201e2",
   "metadata": {},
   "outputs": [],
   "source": [
    "pr_name1=driver.find_elements_by_xpath('//div[@class=\"_30jeq3\"]')\n",
    "pr_name1\n",
    "\n",
    "pr_name2=[]\n",
    "\n",
    "for i in pr_name1:\n",
    "    pr_name2.append(i.text)\n",
    "    \n",
    "pr_name2"
   ]
  },
  {
   "cell_type": "code",
   "execution_count": null,
   "id": "41fa71d0",
   "metadata": {},
   "outputs": [],
   "source": [
    "dr_name1=driver.find_elements_by_xpath('//div[@class=\"_3Ay6Sb\"]')\n",
    "dr_name1\n",
    "\n",
    "dr_name2=[]\n",
    "\n",
    "for i in dr_name1:\n",
    "    dr_name2.append(i.text)\n",
    "    \n",
    "dr_name2"
   ]
  },
  {
   "cell_type": "code",
   "execution_count": null,
   "id": "852c6e35",
   "metadata": {},
   "outputs": [],
   "source": [
    "next_button1=driver.find_element_by_xpath('/html/body/div[1]/div/div[3]/div[1]/div[2]/div[12]/div/div/nav/a[11]')\n",
    "next_button1\n",
    "\n",
    "\n",
    "next_button1.click()"
   ]
  },
  {
   "cell_type": "code",
   "execution_count": null,
   "id": "f3dfa3d3",
   "metadata": {},
   "outputs": [],
   "source": [
    "br_name2=driver.find_elements_by_xpath('//div[@class=\"_2WkVRV\"]')\n",
    "br_name2\n",
    "\n",
    "br_name3=[]\n",
    "\n",
    "for i in br_name2:\n",
    "    br_name3.append(i.text)\n",
    "    \n",
    "br_name3[0:20]"
   ]
  },
  {
   "cell_type": "code",
   "execution_count": null,
   "id": "d8d6b62f",
   "metadata": {},
   "outputs": [],
   "source": [
    "cr_name2=driver.find_elements_by_xpath('//a[@class=\"IRpwTa\"]')\n",
    "cr_name2\n",
    "\n",
    "cr_name3=[]\n",
    "\n",
    "for i in cr_name2:\n",
    "    cr_name3.append(i.text)\n",
    "    \n",
    "cr_name3"
   ]
  },
  {
   "cell_type": "code",
   "execution_count": null,
   "id": "25bf98d0",
   "metadata": {},
   "outputs": [],
   "source": [
    "pr_name2=driver.find_elements_by_xpath('//div[@class=\"_30jeq3\"]')\n",
    "pr_name2\n",
    "\n",
    "pr_name3=[]\n",
    "\n",
    "for i in pr_name2:\n",
    "    pr_name3.append(i.text)\n",
    "    \n",
    "pr_name3"
   ]
  },
  {
   "cell_type": "code",
   "execution_count": null,
   "id": "0c4397fd",
   "metadata": {},
   "outputs": [],
   "source": [
    "dr_name2=driver.find_elements_by_xpath('//div[@class=\"_3Ay6Sb\"]')\n",
    "dr_name2\n",
    "\n",
    "dr_name3=[]\n",
    "\n",
    "for i in dr_name2:\n",
    "    dr_name3.append(i.text)\n",
    "    \n",
    "dr_name3"
   ]
  },
  {
   "cell_type": "markdown",
   "id": "3d398c7b",
   "metadata": {},
   "source": [
    "Q7: Go to the link - https://www.myntra.com/shoes\n",
    "\n",
    "Set Price filter to “Rs. 7149 to Rs. 14099 ” , Color filter to “Black”, as shown inthe below image.\n",
    "\n",
    "And then scrape First 100 shoes data you get. The data should include “Brand” of the shoes , Short Shoe description, price of the shoe as shown in the below image."
   ]
  },
  {
   "cell_type": "code",
   "execution_count": null,
   "id": "6c8c7ebd",
   "metadata": {},
   "outputs": [],
   "source": [
    "import selenium\n",
    "from selenium import webdriver\n",
    "import warnings\n",
    "warnings.filterwarnings('ignore')"
   ]
  },
  {
   "cell_type": "code",
   "execution_count": null,
   "id": "2e56d89a",
   "metadata": {},
   "outputs": [],
   "source": [
    "driver=webdriver.Chrome(r'/Users/vikram/Documents/chromedriver')"
   ]
  },
  {
   "cell_type": "code",
   "execution_count": null,
   "id": "0d483c33",
   "metadata": {},
   "outputs": [],
   "source": [
    "url='https://www.myntra.com/shoes'\n",
    "driver.get(url)"
   ]
  },
  {
   "cell_type": "code",
   "execution_count": null,
   "id": "efca20a3",
   "metadata": {},
   "outputs": [],
   "source": [
    "check_clr=driver.find_element_by_xpath(\"/html/body/div[2]/div/div[1]/main/div[3]/div[1]/section/div/div[6]/ul/li[1]/label/div\")\n",
    "check_clr\n",
    "\n",
    "check_clr.click()"
   ]
  },
  {
   "cell_type": "code",
   "execution_count": null,
   "id": "3e13f6b8",
   "metadata": {},
   "outputs": [],
   "source": [
    "check_price=driver.find_element_by_xpath(\"/html/body/div[2]/div/div[1]/main/div[3]/div[1]/section/div/div[5]/ul/li[2]/label/div\")\n",
    "check_price\n",
    "\n",
    "check_price.click()"
   ]
  },
  {
   "cell_type": "code",
   "execution_count": null,
   "id": "b3f35548",
   "metadata": {},
   "outputs": [],
   "source": [
    "brand=driver.find_elements_by_xpath('//h3[@class=\"product-brand\"]')\n",
    "brand\n",
    "\n",
    "brands=[]\n",
    "\n",
    "for i in brand:\n",
    "    brands.append(i.text)\n",
    "    \n",
    "brands"
   ]
  },
  {
   "cell_type": "code",
   "execution_count": null,
   "id": "4e92449b",
   "metadata": {},
   "outputs": [],
   "source": [
    "pr_desc=driver.find_elements_by_xpath('//h4[@class=\"product-product\"]')\n",
    "pr_desc\n",
    "\n",
    "pro_desc=[]\n",
    "\n",
    "for i in pr_desc:\n",
    "    pro_desc.append(i.text)\n",
    "    \n",
    "pro_desc"
   ]
  },
  {
   "cell_type": "code",
   "execution_count": null,
   "id": "c6430cc2",
   "metadata": {},
   "outputs": [],
   "source": [
    "price=driver.find_elements_by_xpath('//div[@class=\"product-price\"]')\n",
    "price\n",
    "\n",
    "price7=[]\n",
    "\n",
    "for i in price:\n",
    "    price7.append(i.text)\n",
    "    \n",
    "price7"
   ]
  },
  {
   "cell_type": "code",
   "execution_count": null,
   "id": "212f9390",
   "metadata": {},
   "outputs": [],
   "source": [
    "next_button1=driver.find_element_by_xpath('/html/body/div[2]/div/div[1]/main/div[3]/div[2]/div/div[2]/section/div[2]/ul/li[12]/a')\n",
    "next_button1\n",
    "\n",
    "\n",
    "next_button1.click()"
   ]
  },
  {
   "cell_type": "code",
   "execution_count": null,
   "id": "31712d44",
   "metadata": {},
   "outputs": [],
   "source": [
    "brand1=driver.find_elements_by_xpath('//h3[@class=\"product-brand\"]')\n",
    "brand1\n",
    "\n",
    "brands1=[]\n",
    "\n",
    "for i in brand1:\n",
    "    brands1.append(i.text)\n",
    "    \n",
    "brands1"
   ]
  },
  {
   "cell_type": "code",
   "execution_count": null,
   "id": "c15a40c7",
   "metadata": {},
   "outputs": [],
   "source": [
    "pr_desc1=driver.find_elements_by_xpath('//h4[@class=\"product-product\"]')\n",
    "pr_desc1\n",
    "\n",
    "pro_desc1=[]\n",
    "\n",
    "for i in pr_desc1:\n",
    "    pro_desc1.append(i.text)\n",
    "    \n",
    "pro_desc1"
   ]
  },
  {
   "cell_type": "code",
   "execution_count": null,
   "id": "74b56286",
   "metadata": {},
   "outputs": [],
   "source": [
    "price1=driver.find_elements_by_xpath('//div[@class=\"product-price\"]')\n",
    "price1\n",
    "\n",
    "price71=[]\n",
    "\n",
    "for i in price1:\n",
    "    price71.append(i.text)\n",
    "    \n",
    "price71"
   ]
  },
  {
   "cell_type": "code",
   "execution_count": null,
   "id": "c579fb28",
   "metadata": {},
   "outputs": [],
   "source": []
  },
  {
   "cell_type": "markdown",
   "id": "d4480687",
   "metadata": {},
   "source": [
    "Q8: Go to webpage https://www.amazon.in/\n",
    "\n",
    "Enter “Laptop” in the search field and then click the search icon.\n",
    "\n",
    "Then set CPU Type filter to “Intel Core i7” and “Intel Core i9” as shown in the below image:\n",
    "\n",
    "After setting the filters scrape first 10 laptops data. You have to scrape 3 attributesfor each laptop: \n",
    "\n",
    "1. Title\n",
    "2. Ratings\n",
    "3. Price\n",
    "\n",
    "As shown in the below image as the tick marked attributes."
   ]
  },
  {
   "cell_type": "code",
   "execution_count": null,
   "id": "a89cdc8a",
   "metadata": {},
   "outputs": [],
   "source": [
    "import selenium \n",
    "from selenium import webdriver\n",
    "import warnings\n",
    "warnings.filterwarnings('ignore')"
   ]
  },
  {
   "cell_type": "code",
   "execution_count": null,
   "id": "3284c392",
   "metadata": {},
   "outputs": [],
   "source": [
    "driver=webdriver.Chrome(r'/Users/vikram/Documents/chromedriver')"
   ]
  },
  {
   "cell_type": "code",
   "execution_count": 193,
   "id": "e79d4180",
   "metadata": {},
   "outputs": [],
   "source": [
    "url='https://www.amazon.in/'\n",
    "driver.get(url)"
   ]
  },
  {
   "cell_type": "code",
   "execution_count": 194,
   "id": "b3eb368a",
   "metadata": {},
   "outputs": [],
   "source": [
    "srch_b=driver.find_element_by_xpath(\"/html/body/div[1]/header/div/div[1]/div[2]/div/form/div[2]/div[1]/input\")\n",
    "srch_b\n",
    "\n",
    "srch_b.send_keys('Laptop')"
   ]
  },
  {
   "cell_type": "code",
   "execution_count": 195,
   "id": "afc9bc04",
   "metadata": {},
   "outputs": [],
   "source": [
    "src_c=driver.find_element_by_xpath(\"/html/body/div[1]/header/div/div[1]/div[2]/div/form/div[3]/div/span/input\")\n",
    "src_c\n",
    "\n",
    "src_c.click()"
   ]
  },
  {
   "cell_type": "code",
   "execution_count": 196,
   "id": "62d75244",
   "metadata": {},
   "outputs": [],
   "source": [
    "cpu_chk=driver.find_element_by_xpath(\"/html/body/div[1]/div[2]/div[1]/div[2]/div/div[3]/span/div[1]/div/div/div[5]/ul[4]/li[13]/span/a/div/label/i\")\n",
    "cpu_chk\n",
    "\n",
    "cpu_chk.click()"
   ]
  },
  {
   "cell_type": "code",
   "execution_count": null,
   "id": "9124cec8",
   "metadata": {},
   "outputs": [],
   "source": []
  },
  {
   "cell_type": "code",
   "execution_count": null,
   "id": "f9b10fc3",
   "metadata": {},
   "outputs": [],
   "source": [
    "title1=driver.find_elements_by_xpath('//h2[@class=\"a-size-mini a-spacing-none a-color-base s-line-clamp-2\"]')\n",
    "title1\n",
    "\n",
    "title_1=[]\n",
    "\n",
    "for i in title1:\n",
    "    title_1.append(i.text)\n",
    "    \n",
    "title_1[0:10]"
   ]
  },
  {
   "cell_type": "code",
   "execution_count": null,
   "id": "b1a36081",
   "metadata": {},
   "outputs": [],
   "source": []
  },
  {
   "cell_type": "code",
   "execution_count": null,
   "id": "19f8ef48",
   "metadata": {},
   "outputs": [],
   "source": [
    "ratings=driver.find_elements_by_xpath('//span[@class=\"a-icon-alt\"]')\n",
    "ratings\n",
    "\n",
    "rating_s=[]\n",
    "for i in ratings:\n",
    "    rating_s.append(i.get_attribute('innerHTML'))\n",
    "    \n",
    "rating_s[0:10]\n"
   ]
  },
  {
   "cell_type": "code",
   "execution_count": null,
   "id": "cb02074c",
   "metadata": {},
   "outputs": [],
   "source": []
  },
  {
   "cell_type": "code",
   "execution_count": null,
   "id": "abf56d3d",
   "metadata": {},
   "outputs": [],
   "source": [
    "price8=driver.find_elements_by_xpath('//span[@class=\"a-price-whole\"]')\n",
    "price8\n",
    "\n",
    "price81=[]\n",
    "\n",
    "for i in price8:\n",
    "    price81.append(i.text)\n",
    "    \n",
    "price81[0:10]"
   ]
  },
  {
   "cell_type": "code",
   "execution_count": null,
   "id": "ce2986c1",
   "metadata": {},
   "outputs": [],
   "source": []
  },
  {
   "cell_type": "markdown",
   "id": "8746af4b",
   "metadata": {},
   "source": [
    "Q9: Write a python program to scrape data for first 10 job results for Data Scientist Designation in Noida location. You have to scrape company name, No. of days ago when job was posted, Rating of the company. \n",
    "\n",
    "This task will be done in following steps:\n",
    "\n",
    "1. First get the webpage https://www.ambitionbox.com/\n",
    "2. Click on the Job option as shown in the image\n",
    "3. After reaching to the next webpage, In place of “Search by Designations, Companies, Skills” enter “Data Scientist” and click on search button.\n",
    "4. You will reach to the following web page click on location and in place of “Search location” enter “Noida” and select location “Noida”.\n",
    "5. Then scrape the data for the first 10 jobs results you get on the above shown page.\n",
    "6. Finally create a dataframe of the scraped data.\n",
    "\n",
    "Note: All the steps required during scraping should be done through code only and not manually."
   ]
  },
  {
   "cell_type": "code",
   "execution_count": 197,
   "id": "94fce393",
   "metadata": {},
   "outputs": [],
   "source": [
    "import selenium \n",
    "from selenium import webdriver\n",
    "import pandas as pd\n",
    "import warnings\n",
    "warnings.filterwarnings('ignore')"
   ]
  },
  {
   "cell_type": "code",
   "execution_count": 198,
   "id": "7726bbab",
   "metadata": {},
   "outputs": [],
   "source": [
    "driver=webdriver.Chrome(r'/Users/vikram/Documents/chromedriver')"
   ]
  },
  {
   "cell_type": "code",
   "execution_count": 199,
   "id": "5583f7d3",
   "metadata": {},
   "outputs": [],
   "source": [
    "url='https://www.ambitionbox.com/'\n",
    "driver.get(url)"
   ]
  },
  {
   "cell_type": "code",
   "execution_count": 201,
   "id": "06dfa543",
   "metadata": {},
   "outputs": [],
   "source": [
    "j_src=driver.find_element_by_xpath(\"/html/body/div[1]/nav/nav/a[6]\")\n",
    "j_src\n",
    "\n",
    "j_src.click()"
   ]
  },
  {
   "cell_type": "code",
   "execution_count": 202,
   "id": "99f933d3",
   "metadata": {},
   "outputs": [],
   "source": [
    "job_int=driver.find_element_by_xpath(\"/html/body/div/div/div/div[2]/div[1]/div/div/div/div/span/input\")\n",
    "job_int\n",
    "\n",
    "job_int.send_keys('Data Scientist')"
   ]
  },
  {
   "cell_type": "code",
   "execution_count": 204,
   "id": "3632b1c9",
   "metadata": {},
   "outputs": [],
   "source": [
    "job_src=driver.find_element_by_xpath(\"/html/body/div/div/div/div[2]/div[1]/div/div/div/button/span\")\n",
    "job_src\n",
    "\n",
    "job_src.click()"
   ]
  },
  {
   "cell_type": "code",
   "execution_count": 205,
   "id": "aab1751d",
   "metadata": {},
   "outputs": [],
   "source": [
    "location_src=driver.find_element_by_xpath(\"/html/body/div/div/div/div[2]/div[2]/div[1]/div/div/div/div[2]/div[1]/p\")\n",
    "location_src\n",
    "\n",
    "location_src.click()"
   ]
  },
  {
   "cell_type": "code",
   "execution_count": 206,
   "id": "e6c49e40",
   "metadata": {},
   "outputs": [],
   "source": [
    "job_int=driver.find_element_by_xpath(\"/html/body/div/div/div/div[2]/div[2]/div[1]/div/div/div/div[2]/div[2]/div/div[2]/input\")\n",
    "job_int\n",
    "\n",
    "job_int.send_keys('Noida')"
   ]
  },
  {
   "cell_type": "code",
   "execution_count": 207,
   "id": "9818c49e",
   "metadata": {},
   "outputs": [],
   "source": [
    "n_src=driver.find_element_by_xpath(\"/html/body/div/div/div/div[2]/div[2]/div[1]/div/div/div/div[2]/div[2]/div/div[3]/div[1]/div[1]/div/label\")\n",
    "n_src\n",
    "\n",
    "n_src.click()"
   ]
  },
  {
   "cell_type": "code",
   "execution_count": 208,
   "id": "6067816d",
   "metadata": {},
   "outputs": [
    {
     "data": {
      "text/plain": [
       "['Excellent Opportunity For Freshers For AI/ML, Data Scientist, BI, QA',\n",
       " \"HCL Hiring Data Scientist (Loc: Noida / Chennai / B'lore)\",\n",
       " 'Data Scientist',\n",
       " 'Data Scientist',\n",
       " 'Data Scientist-II',\n",
       " 'HCL Tech Opening - Senior Data Scientist',\n",
       " 'Data Scientist',\n",
       " 'Urgent Requirement || Data Scientist || Noida',\n",
       " 'Data Scientist with NLP & Python',\n",
       " 'Data Scientist']"
      ]
     },
     "execution_count": 208,
     "metadata": {},
     "output_type": "execute_result"
    }
   ],
   "source": [
    "co_name=driver.find_elements_by_xpath('//a[@class=\"title noclick\"]')\n",
    "co_name\n",
    "\n",
    "co_name1=[]\n",
    "\n",
    "for i in co_name:\n",
    "    co_name1.append(i.text)\n",
    "    \n",
    "l=co_name1[0:10]\n",
    "l"
   ]
  },
  {
   "cell_type": "code",
   "execution_count": 209,
   "id": "2d3147bd",
   "metadata": {},
   "outputs": [
    {
     "data": {
      "text/plain": [
       "['8d ago',\n",
       " '9d ago',\n",
       " '19d ago',\n",
       " '9d ago',\n",
       " '20d ago',\n",
       " '17d ago',\n",
       " '7d ago',\n",
       " '24d ago',\n",
       " '2d ago',\n",
       " '9d ago']"
      ]
     },
     "execution_count": 209,
     "metadata": {},
     "output_type": "execute_result"
    }
   ],
   "source": [
    "posting_date=driver.find_elements_by_xpath('//span[@class=\"body-small-l\"][1]')\n",
    "posting_date\n",
    "\n",
    "posting_date1=[]\n",
    "\n",
    "for i in posting_date:\n",
    "    posting_date1.append(i.text)\n",
    "    \n",
    "m=posting_date1[0:10]\n",
    "m"
   ]
  },
  {
   "cell_type": "code",
   "execution_count": 210,
   "id": "914c72e3",
   "metadata": {},
   "outputs": [
    {
     "data": {
      "text/plain": [
       "['3.9', '3.8', '4.1', '4.2', '4.2', '3.8', '3.9', '3.8', '3.8', '3.7']"
      ]
     },
     "execution_count": 210,
     "metadata": {},
     "output_type": "execute_result"
    }
   ],
   "source": [
    "ratings9=driver.find_elements_by_xpath('//span[@class=\"body-small\"]')\n",
    "ratings9\n",
    "\n",
    "ratings91=[]\n",
    "\n",
    "for i in ratings9:\n",
    "    ratings91.append(i.text)\n",
    "    \n",
    "n=ratings91[0:10]\n",
    "n"
   ]
  },
  {
   "cell_type": "code",
   "execution_count": 211,
   "id": "1cd0db62",
   "metadata": {},
   "outputs": [
    {
     "data": {
      "text/html": [
       "<div>\n",
       "<style scoped>\n",
       "    .dataframe tbody tr th:only-of-type {\n",
       "        vertical-align: middle;\n",
       "    }\n",
       "\n",
       "    .dataframe tbody tr th {\n",
       "        vertical-align: top;\n",
       "    }\n",
       "\n",
       "    .dataframe thead th {\n",
       "        text-align: right;\n",
       "    }\n",
       "</style>\n",
       "<table border=\"1\" class=\"dataframe\">\n",
       "  <thead>\n",
       "    <tr style=\"text-align: right;\">\n",
       "      <th></th>\n",
       "      <th>Company Name</th>\n",
       "      <th>Posting Date</th>\n",
       "      <th>Rating</th>\n",
       "    </tr>\n",
       "  </thead>\n",
       "  <tbody>\n",
       "    <tr>\n",
       "      <th>0</th>\n",
       "      <td>Excellent Opportunity For Freshers For AI/ML, ...</td>\n",
       "      <td>8d ago</td>\n",
       "      <td>3.9</td>\n",
       "    </tr>\n",
       "    <tr>\n",
       "      <th>1</th>\n",
       "      <td>HCL Hiring Data Scientist (Loc: Noida / Chenna...</td>\n",
       "      <td>9d ago</td>\n",
       "      <td>3.8</td>\n",
       "    </tr>\n",
       "    <tr>\n",
       "      <th>2</th>\n",
       "      <td>Data Scientist</td>\n",
       "      <td>19d ago</td>\n",
       "      <td>4.1</td>\n",
       "    </tr>\n",
       "    <tr>\n",
       "      <th>3</th>\n",
       "      <td>Data Scientist</td>\n",
       "      <td>9d ago</td>\n",
       "      <td>4.2</td>\n",
       "    </tr>\n",
       "    <tr>\n",
       "      <th>4</th>\n",
       "      <td>Data Scientist-II</td>\n",
       "      <td>20d ago</td>\n",
       "      <td>4.2</td>\n",
       "    </tr>\n",
       "    <tr>\n",
       "      <th>5</th>\n",
       "      <td>HCL Tech Opening - Senior Data Scientist</td>\n",
       "      <td>17d ago</td>\n",
       "      <td>3.8</td>\n",
       "    </tr>\n",
       "    <tr>\n",
       "      <th>6</th>\n",
       "      <td>Data Scientist</td>\n",
       "      <td>7d ago</td>\n",
       "      <td>3.9</td>\n",
       "    </tr>\n",
       "    <tr>\n",
       "      <th>7</th>\n",
       "      <td>Urgent Requirement || Data Scientist || Noida</td>\n",
       "      <td>24d ago</td>\n",
       "      <td>3.8</td>\n",
       "    </tr>\n",
       "    <tr>\n",
       "      <th>8</th>\n",
       "      <td>Data Scientist with NLP &amp; Python</td>\n",
       "      <td>2d ago</td>\n",
       "      <td>3.8</td>\n",
       "    </tr>\n",
       "    <tr>\n",
       "      <th>9</th>\n",
       "      <td>Data Scientist</td>\n",
       "      <td>9d ago</td>\n",
       "      <td>3.7</td>\n",
       "    </tr>\n",
       "  </tbody>\n",
       "</table>\n",
       "</div>"
      ],
      "text/plain": [
       "                                        Company Name Posting Date Rating\n",
       "0  Excellent Opportunity For Freshers For AI/ML, ...       8d ago    3.9\n",
       "1  HCL Hiring Data Scientist (Loc: Noida / Chenna...       9d ago    3.8\n",
       "2                                     Data Scientist      19d ago    4.1\n",
       "3                                     Data Scientist       9d ago    4.2\n",
       "4                                  Data Scientist-II      20d ago    4.2\n",
       "5           HCL Tech Opening - Senior Data Scientist      17d ago    3.8\n",
       "6                                     Data Scientist       7d ago    3.9\n",
       "7      Urgent Requirement || Data Scientist || Noida      24d ago    3.8\n",
       "8                   Data Scientist with NLP & Python       2d ago    3.8\n",
       "9                                     Data Scientist       9d ago    3.7"
      ]
     },
     "execution_count": 211,
     "metadata": {},
     "output_type": "execute_result"
    }
   ],
   "source": [
    "ambition_jobs=pd.DataFrame()\n",
    "ambition_jobs['Company Name']=l\n",
    "ambition_jobs['Posting Date']=m\n",
    "ambition_jobs['Rating']=n\n",
    "ambition_jobs\n"
   ]
  },
  {
   "cell_type": "code",
   "execution_count": null,
   "id": "c491adf3",
   "metadata": {},
   "outputs": [],
   "source": []
  },
  {
   "cell_type": "markdown",
   "id": "137be94c",
   "metadata": {},
   "source": [
    "Q10: Write a python program to scrape the salary data for Data Scientist designation.\n",
    "\n",
    "You have to scrape Company name, Number of salaries, Average salary, Minsalary, Max Salary.\n",
    "\n",
    "The above task will be, done as shown in the below steps:\n",
    "\n",
    "1. First get the webpage https://www.ambitionbox.com/\n",
    "2. Click on the salaries option as shown in the image.\n",
    "3. After reaching to the following webpage, In place of “Search Job Profile” enters “Data Scientist” and then click on “Data Scientist”.\n",
    "\n",
    "You have to scrape the data ticked in the above image.\n",
    "\n",
    "4. Scrape the data for the first 10 companies. Scrape the company name, total salary record, average salary, minimum salary, maximum salary, experience required.\n",
    "5. Store the data in a dataframe.\n",
    "\n",
    "Note: All the steps required during scraping should be done through code only and not manually."
   ]
  },
  {
   "cell_type": "code",
   "execution_count": null,
   "id": "b8580c61",
   "metadata": {},
   "outputs": [],
   "source": [
    "import selenium \n",
    "from selenium import webdriver\n",
    "import pandas as pd\n",
    "import warnings\n",
    "warnings.filterwarnings('ignore')"
   ]
  },
  {
   "cell_type": "code",
   "execution_count": null,
   "id": "226a5821",
   "metadata": {},
   "outputs": [],
   "source": [
    "driver=webdriver.Chrome(r'/Users/vikram/Documents/chromedriver')"
   ]
  },
  {
   "cell_type": "code",
   "execution_count": null,
   "id": "2766cf47",
   "metadata": {},
   "outputs": [],
   "source": [
    "url='https://www.ambitionbox.com/'\n",
    "driver.get(url)"
   ]
  },
  {
   "cell_type": "code",
   "execution_count": null,
   "id": "9d27796f",
   "metadata": {},
   "outputs": [],
   "source": [
    "s_src=driver.find_element_by_xpath(\"/html/body/div[1]/nav/nav/a[4]\")\n",
    "s_src\n",
    "\n",
    "s_src.click()"
   ]
  },
  {
   "cell_type": "code",
   "execution_count": null,
   "id": "09d5ed1d",
   "metadata": {},
   "outputs": [],
   "source": [
    "s_int=driver.find_element_by_xpath(\"/html/body/div/div/div/main/section[1]/div[2]/div[1]/span/input\")\n",
    "s_int\n",
    "\n",
    "s_int.send_keys('Data Scientist')"
   ]
  },
  {
   "cell_type": "code",
   "execution_count": null,
   "id": "9f22d403",
   "metadata": {},
   "outputs": [],
   "source": [
    "sd_src=driver.find_element_by_xpath(\"/html/body/div/div/div/main/section[1]/div[2]/div[1]/span/div/div/div[1]/div/div/p\")\n",
    "sd_src\n",
    "\n",
    "sd_src.click()"
   ]
  },
  {
   "cell_type": "code",
   "execution_count": null,
   "id": "63fd7193",
   "metadata": {},
   "outputs": [],
   "source": [
    "company_name=driver.find_elements_by_xpath('//div[@class=\"name\"]//a')\n",
    "company_name\n",
    "\n",
    "company_name1=[]\n",
    "\n",
    "for i in company_name:\n",
    "    company_name1.append(i.text)\n",
    "    \n",
    "u=company_name1[0:10]\n",
    "u"
   ]
  },
  {
   "cell_type": "code",
   "execution_count": null,
   "id": "46b91649",
   "metadata": {},
   "outputs": [],
   "source": [
    "salary_record=driver.find_elements_by_xpath('//div[@class=\"name\"]//span')\n",
    "salary_record\n",
    "\n",
    "salary_record1=[]\n",
    "\n",
    "for i in salary_record:\n",
    "    salary_record1.append(i.text)\n",
    "    \n",
    "v=salary_record1[0:10]\n",
    "v"
   ]
  },
  {
   "cell_type": "code",
   "execution_count": null,
   "id": "ae98179e",
   "metadata": {},
   "outputs": [],
   "source": [
    "average_salary=driver.find_elements_by_xpath('//p[@class=\"averageCtc\"]')\n",
    "average_salary\n",
    "\n",
    "avg_salary=[]\n",
    "\n",
    "for i in average_salary:\n",
    "    avg_salary.append(i.text)\n",
    "    \n",
    "w=avg_salary[0:10]\n",
    "w"
   ]
  },
  {
   "cell_type": "code",
   "execution_count": null,
   "id": "cd8dbbc7",
   "metadata": {},
   "outputs": [],
   "source": [
    "maximum_salary=driver.find_elements_by_xpath('//div[@class=\"value body-medium\"][2]')\n",
    "maximum_salary\n",
    "\n",
    "max_salary=[]\n",
    "\n",
    "for i in maximum_salary:\n",
    "    max_salary.append(i.text)\n",
    "    \n",
    "x=max_salary[0:10]\n",
    "x"
   ]
  },
  {
   "cell_type": "code",
   "execution_count": null,
   "id": "f09a1029",
   "metadata": {},
   "outputs": [],
   "source": [
    "minimum_salary=driver.find_elements_by_xpath('//div[@class=\"value body-medium\"][1]')\n",
    "minimum_salary\n",
    "\n",
    "min_salary=[]\n",
    "\n",
    "for i in minimum_salary:\n",
    "    min_salary.append(i.text)\n",
    "    \n",
    "y=min_salary[0:10]\n",
    "y"
   ]
  },
  {
   "cell_type": "code",
   "execution_count": null,
   "id": "b47ce7d6",
   "metadata": {},
   "outputs": [],
   "source": [
    "exp_r=driver.find_elements_by_xpath('//div[@class=\"salaries sbold-list-header\"]')\n",
    "exp_r\n",
    "\n",
    "exp_re=[]\n",
    "\n",
    "for i in exp_r:\n",
    "    exp_re.append(i.text.replace('Data Scientist\\n . \\n',''))\n",
    "    \n",
    "z=exp_re[0:10]\n",
    "z"
   ]
  },
  {
   "cell_type": "code",
   "execution_count": null,
   "id": "196f566d",
   "metadata": {},
   "outputs": [],
   "source": [
    "ambition_jobs10=pd.DataFrame()\n",
    "ambition_jobs10['Company Name']=u\n",
    "ambition_jobs10['Salary Record']=v\n",
    "ambition_jobs10['Average Salary']=w\n",
    "ambition_jobs10['Maximum Salary']=x\n",
    "ambition_jobs10['Minimum Salary']=y\n",
    "ambition_jobs10['Experience Required']=z\n",
    "ambition_jobs10\n"
   ]
  },
  {
   "cell_type": "code",
   "execution_count": null,
   "id": "6d78cf8e",
   "metadata": {},
   "outputs": [],
   "source": []
  },
  {
   "cell_type": "code",
   "execution_count": null,
   "id": "559d4958",
   "metadata": {},
   "outputs": [],
   "source": []
  },
  {
   "cell_type": "code",
   "execution_count": null,
   "id": "81e12f3f",
   "metadata": {},
   "outputs": [],
   "source": []
  },
  {
   "cell_type": "code",
   "execution_count": null,
   "id": "46bb894a",
   "metadata": {},
   "outputs": [],
   "source": []
  },
  {
   "cell_type": "code",
   "execution_count": null,
   "id": "b3c80a8b",
   "metadata": {},
   "outputs": [],
   "source": []
  },
  {
   "cell_type": "code",
   "execution_count": null,
   "id": "17fe5c19",
   "metadata": {},
   "outputs": [],
   "source": []
  }
 ],
 "metadata": {
  "kernelspec": {
   "display_name": "Python 3 (ipykernel)",
   "language": "python",
   "name": "python3"
  },
  "language_info": {
   "codemirror_mode": {
    "name": "ipython",
    "version": 3
   },
   "file_extension": ".py",
   "mimetype": "text/x-python",
   "name": "python",
   "nbconvert_exporter": "python",
   "pygments_lexer": "ipython3",
   "version": "3.9.7"
  }
 },
 "nbformat": 4,
 "nbformat_minor": 5
}
